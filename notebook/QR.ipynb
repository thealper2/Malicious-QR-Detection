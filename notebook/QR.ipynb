{
 "cells": [
  {
   "cell_type": "markdown",
   "id": "c23936de-f940-4aa5-a382-8101ab441fce",
   "metadata": {},
   "source": [
    "# Import Libraries"
   ]
  },
  {
   "cell_type": "code",
   "execution_count": null,
   "id": "0264f8fe-7e60-459c-a2a1-a01476161574",
   "metadata": {},
   "outputs": [],
   "source": [
    "import numpy as np\n",
    "import pandas as pd\n",
    "import tensorflow as tf\n",
    "import matplotlib.pyplot as plt\n",
    "import cv2\n",
    "import os\n",
    "from pyzbar.pyzbar import decode\n",
    "from tensorflow.keras.preprocessing.image import ImageDataGenerator\n",
    "from tensorflow.keras.models import Sequential, Model\n",
    "from tensorflow.keras.layers import Conv2D, MaxPooling2D, Flatten, Dense, GlobalAveragePooling2D\n",
    "from tensorflow.keras.callbacks import EarlyStopping\n",
    "from tensorflow.keras.optimizers import RMSprop\n",
    "from tensorflow.keras.applications import MobileNetV2\n",
    "from sklearn.metrics import roc_curve, auc"
   ]
  },
  {
   "cell_type": "markdown",
   "id": "7f11bd8e-2127-49b4-88ef-df41dd4c850b",
   "metadata": {},
   "source": [
    "# Load Data"
   ]
  },
  {
   "cell_type": "code",
   "execution_count": null,
   "id": "692b0abf-d9fd-4a48-851a-628f1a2d721c",
   "metadata": {},
   "outputs": [],
   "source": [
    "root_dir = \"/mnt/hdd/Datasets/QR codes dataset\"\n",
    "train_dir = \"/mnt/hdd/Datasets/QR codes dataset/Train\"\n",
    "valid_dir = \"/mnt/hdd/Datasets/QR codes dataset/Val\"\n",
    "test_dir = \"/mnt/hdd/Datasets/QR codes dataset/Test\""
   ]
  },
  {
   "cell_type": "code",
   "execution_count": null,
   "id": "4eef032d-caf3-4b06-a62e-ea537ad1023a",
   "metadata": {},
   "outputs": [],
   "source": [
    "test_image = \"/mnt/hdd/Datasets/QR codes dataset/Train/benign_10.png\"\n",
    "image = cv2.imread(test_image)\n",
    "decoded_objects = decode(image)\n",
    "\n",
    "for obj in decoded_objects:\n",
    "    data = obj.data.decode(\"utf-8\")\n",
    "    print(str(data.split()[1]))"
   ]
  },
  {
   "cell_type": "code",
   "execution_count": null,
   "id": "098f76a0-2a15-4a6e-86a6-e0c2e84b8434",
   "metadata": {},
   "outputs": [],
   "source": [
    "test_image = \"/mnt/hdd/Datasets/QR codes dataset/Test/malicious_316801.png\"\n",
    "image = cv2.imread(test_image)\n",
    "decoded_objects = decode(image)\n",
    "\n",
    "for obj in decoded_objects:\n",
    "    data = obj.data.decode(\"utf-8\")\n",
    "    print(str(data.split()[1]))"
   ]
  },
  {
   "cell_type": "code",
   "execution_count": null,
   "id": "082a4376-b93a-4875-9ea4-ef9b2317b4e1",
   "metadata": {},
   "outputs": [],
   "source": [
    "train_data, valid_data, test_data = [], [], []\n",
    "train_labels, valid_labels, test_labels = [], [], []\n",
    "\n",
    "for image in os.listdir(train_dir):\n",
    "    file_path = \"Train\" + \"/\" + image\n",
    "    label = \"benign\" if \"benign\" in image else \"malicious\"\n",
    "    train_data.append(file_path)\n",
    "    train_labels.append(label)\n",
    "\n",
    "for image in os.listdir(valid_dir):\n",
    "    file_path = \"Val\" + \"/\" + image\n",
    "    label = \"benign\" if \"benign\" in image else \"malicious\"\n",
    "    valid_data.append(file_path)\n",
    "    valid_labels.append(label)\n",
    "\n",
    "for image in os.listdir(test_dir):\n",
    "    file_path = \"Test\" + \"/\" + image\n",
    "    label = \"benign\" if \"benign\" in image else \"malicious\"\n",
    "    test_data.append(file_path)\n",
    "    test_labels.append(label)"
   ]
  },
  {
   "cell_type": "code",
   "execution_count": null,
   "id": "1b1a2a47-232d-49d4-acb9-2595d845e9d7",
   "metadata": {},
   "outputs": [],
   "source": [
    "train_df = pd.DataFrame({\"filepath\": train_data, \"label\": train_labels})\n",
    "train_df.head()"
   ]
  },
  {
   "cell_type": "code",
   "execution_count": null,
   "id": "43fd3422-3215-48d4-9f15-1aa911906b1d",
   "metadata": {},
   "outputs": [],
   "source": [
    "train_df.shape"
   ]
  },
  {
   "cell_type": "code",
   "execution_count": null,
   "id": "08ab8cdc-f4b4-43c9-bf90-1b19f995890f",
   "metadata": {},
   "outputs": [],
   "source": [
    "train_df.label.value_counts()"
   ]
  },
  {
   "cell_type": "code",
   "execution_count": null,
   "id": "21a9e2a6-0713-446f-901f-1be2783acd01",
   "metadata": {},
   "outputs": [],
   "source": [
    "valid_df = pd.DataFrame({\"filepath\": valid_data, \"label\": valid_labels})\n",
    "valid_df.head()"
   ]
  },
  {
   "cell_type": "code",
   "execution_count": null,
   "id": "a5309d9c-aad2-41ab-95d7-92c7b2c7b018",
   "metadata": {},
   "outputs": [],
   "source": [
    "valid_df.shape"
   ]
  },
  {
   "cell_type": "code",
   "execution_count": null,
   "id": "686848e7-4904-4b39-ba04-97077d97b939",
   "metadata": {},
   "outputs": [],
   "source": [
    "valid_df.label.value_counts()"
   ]
  },
  {
   "cell_type": "code",
   "execution_count": null,
   "id": "7156fa4e-59b8-4249-945a-24c8a4f5066d",
   "metadata": {},
   "outputs": [],
   "source": [
    "test_df = pd.DataFrame({\"filepath\": test_data, \"label\": test_labels})\n",
    "test_df.head()"
   ]
  },
  {
   "cell_type": "code",
   "execution_count": null,
   "id": "faaec5ed-abd6-4c61-a6c0-510b8499922a",
   "metadata": {},
   "outputs": [],
   "source": [
    "test_df.shape"
   ]
  },
  {
   "cell_type": "code",
   "execution_count": null,
   "id": "76259d4e-2ea3-43c5-b92a-1f62823ea774",
   "metadata": {},
   "outputs": [],
   "source": [
    "test_df.label.value_counts()"
   ]
  },
  {
   "cell_type": "code",
   "execution_count": null,
   "id": "9056ba73-2209-4381-b8bc-6f0296294b62",
   "metadata": {},
   "outputs": [],
   "source": [
    "datagen = ImageDataGenerator(\n",
    "    rescale=1./255\n",
    ")"
   ]
  },
  {
   "cell_type": "code",
   "execution_count": null,
   "id": "ab4ddbfc-d037-4568-9832-c45b1b0b4443",
   "metadata": {},
   "outputs": [],
   "source": [
    "train_gen = datagen.flow_from_dataframe(\n",
    "    dataframe=train_df,\n",
    "    directory=root_dir,\n",
    "    x_col=\"filepath\",\n",
    "    y_col=\"label\",\n",
    "    batch_size=32,\n",
    "    shuffle=True,\n",
    "    class_mode=\"binary\",\n",
    "    target_size=(128, 128),\n",
    "    #color_mode=\"grayscale\",\n",
    ")\n",
    "\n",
    "valid_gen = datagen.flow_from_dataframe(\n",
    "    dataframe=valid_df,\n",
    "    directory=root_dir,\n",
    "    x_col=\"filepath\",\n",
    "    y_col=\"label\",\n",
    "    batch_size=32,\n",
    "    shuffle=True,\n",
    "    class_mode=\"binary\",\n",
    "    target_size=(128, 128),\n",
    "    #color_mode=\"grayscale\"\n",
    ")\n",
    "\n",
    "test_gen = datagen.flow_from_dataframe(\n",
    "    dataframe=test_df,\n",
    "    directory=root_dir,\n",
    "    x_col=\"filepath\",\n",
    "    y_col=\"label\",\n",
    "    batch_size=32,\n",
    "    shuffle=True,\n",
    "    class_mode=\"binary\",\n",
    "    target_size=(128, 128),\n",
    "    #color_mode=\"grayscale\"\n",
    ")"
   ]
  },
  {
   "cell_type": "markdown",
   "id": "426169fb-b688-4e5f-bdc5-9a2f1d30e5e7",
   "metadata": {},
   "source": [
    "# Model"
   ]
  },
  {
   "cell_type": "code",
   "execution_count": null,
   "id": "30918fc9-72aa-4844-9abc-da9307b13587",
   "metadata": {},
   "outputs": [],
   "source": [
    "model = Sequential()\n",
    "model.add(Conv2D(32, (3, 3), activation=\"relu\", input_shape=train_gen.image_shape))\n",
    "model.add(MaxPooling2D((2, 2)))\n",
    "model.add(Flatten())\n",
    "model.add(Dense(64, activation=\"relu\"))\n",
    "model.add(Dense(1, activation=\"sigmoid\"))"
   ]
  },
  {
   "cell_type": "code",
   "execution_count": null,
   "id": "075bfe71-0f9f-43ac-ab83-5ea6bae4bbef",
   "metadata": {},
   "outputs": [],
   "source": [
    "model.compile(optimizer=\"adam\", loss=\"binary_crossentropy\", metrics=[\"accuracy\"])"
   ]
  },
  {
   "cell_type": "code",
   "execution_count": null,
   "id": "2c517bfb-c02b-4352-8712-bf52a1ed94ce",
   "metadata": {},
   "outputs": [],
   "source": [
    "early = [EarlyStopping(monitor=\"val_loss\", patience=3)]"
   ]
  },
  {
   "cell_type": "code",
   "execution_count": null,
   "id": "10660510-be12-411a-9573-5f96e76e8232",
   "metadata": {},
   "outputs": [],
   "source": [
    "history = model.fit(\n",
    "    train_gen,\n",
    "    steps_per_epoch=256,\n",
    "    epochs=10,\n",
    "    validation_data=valid_gen,\n",
    "    validation_steps=256,\n",
    ")"
   ]
  },
  {
   "cell_type": "code",
   "execution_count": null,
   "id": "c186278f-db87-4496-8971-60d6fa8d37eb",
   "metadata": {},
   "outputs": [],
   "source": [
    "plt.figure()\n",
    "plt.title(\"Model Accuracy\")\n",
    "plt.plot(history.history[\"accuracy\"], label=\"train\")\n",
    "plt.plot(history.history[\"val_accuracy\"], label=\"valid\")\n",
    "plt.legend()\n",
    "plt.show()"
   ]
  },
  {
   "cell_type": "code",
   "execution_count": null,
   "id": "808ceac4-7542-47b2-a028-935cf8bacf8f",
   "metadata": {},
   "outputs": [],
   "source": [
    "plt.figure()\n",
    "plt.title(\"Model Loss\")\n",
    "plt.plot(history.history[\"loss\"], label=\"train\")\n",
    "plt.plot(history.history[\"val_loss\"], label=\"valid\")\n",
    "plt.legend()\n",
    "plt.show()"
   ]
  },
  {
   "cell_type": "code",
   "execution_count": null,
   "id": "e6cb68af-1d53-4a21-8177-726ed94b6b85",
   "metadata": {},
   "outputs": [],
   "source": [
    "model.save(\"qr.h5\")"
   ]
  },
  {
   "cell_type": "code",
   "execution_count": null,
   "id": "2976d9b2-85b6-48cd-9847-11f4a5964391",
   "metadata": {},
   "outputs": [],
   "source": [
    "model.evaluate(valid_gen)"
   ]
  },
  {
   "cell_type": "markdown",
   "id": "af24d951-22f5-4e49-b196-9487b2ea6bf3",
   "metadata": {},
   "source": [
    "# Predict"
   ]
  },
  {
   "cell_type": "code",
   "execution_count": null,
   "id": "821bcf9c-4a1e-489a-aaa0-b4d5518152ab",
   "metadata": {},
   "outputs": [],
   "source": [
    "valid_gen.reset()\n",
    "preds = model.predict(valid_gen, verbose=1)"
   ]
  },
  {
   "cell_type": "code",
   "execution_count": null,
   "id": "b84b43e6-5b5b-48f3-bb4e-ea9105535d7e",
   "metadata": {},
   "outputs": [],
   "source": [
    "fpr, tpr, _ = roc_curve(valid_gen.classes, preds)\n",
    "roc_auc = auc(fpr, tpr)\n",
    "\n",
    "plt.figure()\n",
    "plt.plot(fpr, tpr, color=\"darkorange\", lw=2, label=f\"ROC curve (area = {roc_auc :.2f})\")\n",
    "plt.plot([0, 1], [0, 1], color=\"navy\", lw=2, linestyle=\"--\")\n",
    "plt.xlim([0.0, 1.0])\n",
    "plt.ylim([0.0, 1.0])\n",
    "plt.legend(loc=\"lower right\")\n",
    "plt.show()"
   ]
  },
  {
   "cell_type": "code",
   "execution_count": null,
   "id": "66d8a1ad-092a-4ae0-893e-732580083ffb",
   "metadata": {},
   "outputs": [],
   "source": []
  }
 ],
 "metadata": {
  "kernelspec": {
   "display_name": "Python 3 (ipykernel)",
   "language": "python",
   "name": "python3"
  },
  "language_info": {
   "codemirror_mode": {
    "name": "ipython",
    "version": 3
   },
   "file_extension": ".py",
   "mimetype": "text/x-python",
   "name": "python",
   "nbconvert_exporter": "python",
   "pygments_lexer": "ipython3",
   "version": "3.10.12"
  }
 },
 "nbformat": 4,
 "nbformat_minor": 5
}
